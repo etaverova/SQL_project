{
 "cells": [
  {
   "cell_type": "markdown",
   "id": "cf1986db",
   "metadata": {},
   "source": [
    "# SQL"
   ]
  },
  {
   "cell_type": "markdown",
   "id": "425b3f52",
   "metadata": {},
   "source": [
    "## Цели исследования"
   ]
  },
  {
   "cell_type": "markdown",
   "id": "7e5b714e",
   "metadata": {},
   "source": [
    "- Изучить данные таблиц;\n",
    "\n",
    "- Посчитать, сколько книг вышло после 1 января 2000 года;\n",
    "\n",
    "- Для каждой книги посчитать количество обзоров и среднюю оценку;\n",
    "\n",
    "- Определить издательство, которое выпустило наибольшее число книг толще 50 страниц — так вы исключите из анализа брошюры;\n",
    "\n",
    "- Определить автора с самой высокой средней оценкой книг — учитывайте только книги с 50 и более оценками;\n",
    "\n",
    "- Посчитать среднее количество обзоров от пользователей, которые поставили больше 48 оценок.\n"
   ]
  },
  {
   "cell_type": "markdown",
   "id": "1df75570",
   "metadata": {},
   "source": [
    "## Исследование таблиц"
   ]
  },
  {
   "cell_type": "code",
   "execution_count": 1,
   "id": "a28de467",
   "metadata": {},
   "outputs": [],
   "source": [
    "import pandas as pd\n",
    "from sqlalchemy import text, create_engine\n",
    "from datetime import datetime\n",
    "pd.set_option('display.max_columns', None)\n",
    "pd.options.display.max_colwidth = 150"
   ]
  },
  {
   "cell_type": "code",
   "execution_count": 2,
   "id": "bf375440",
   "metadata": {},
   "outputs": [],
   "source": [
    "db_config = {'user': 'praktikum_student', # имя пользователя\n",
    "            'pwd': 'Sdf4$2;d-d30pp', # пароль\n",
    "            'host': 'rc1b-wcoijxj3yxfsf3fs.mdb.yandexcloud.net',\n",
    "            'port': 6432, # порт подключения\n",
    "            'db': 'data-analyst-final-project-db'} # название базы данных\n",
    "connection_string = 'postgresql://{user}:{pwd}@{host}:{port}/{db}'.format(**db_config)\n",
    "# сохраняем коннектор\n",
    "engine = create_engine(connection_string, connect_args={'sslmode':'require'})"
   ]
  },
  {
   "cell_type": "markdown",
   "id": "81676fe9",
   "metadata": {},
   "source": [
    "### books"
   ]
  },
  {
   "cell_type": "code",
   "execution_count": 3,
   "id": "933bc284",
   "metadata": {
    "scrolled": true
   },
   "outputs": [
    {
     "data": {
      "text/html": [
       "<div>\n",
       "<style scoped>\n",
       "    .dataframe tbody tr th:only-of-type {\n",
       "        vertical-align: middle;\n",
       "    }\n",
       "\n",
       "    .dataframe tbody tr th {\n",
       "        vertical-align: top;\n",
       "    }\n",
       "\n",
       "    .dataframe thead th {\n",
       "        text-align: right;\n",
       "    }\n",
       "</style>\n",
       "<table border=\"1\" class=\"dataframe\">\n",
       "  <thead>\n",
       "    <tr style=\"text-align: right;\">\n",
       "      <th></th>\n",
       "      <th>book_id</th>\n",
       "      <th>author_id</th>\n",
       "      <th>title</th>\n",
       "      <th>num_pages</th>\n",
       "      <th>publication_date</th>\n",
       "      <th>publisher_id</th>\n",
       "    </tr>\n",
       "  </thead>\n",
       "  <tbody>\n",
       "    <tr>\n",
       "      <th>0</th>\n",
       "      <td>1</td>\n",
       "      <td>546</td>\n",
       "      <td>'Salem's Lot</td>\n",
       "      <td>594</td>\n",
       "      <td>2005-11-01</td>\n",
       "      <td>93</td>\n",
       "    </tr>\n",
       "    <tr>\n",
       "      <th>1</th>\n",
       "      <td>2</td>\n",
       "      <td>465</td>\n",
       "      <td>1 000 Places to See Before You Die</td>\n",
       "      <td>992</td>\n",
       "      <td>2003-05-22</td>\n",
       "      <td>336</td>\n",
       "    </tr>\n",
       "    <tr>\n",
       "      <th>2</th>\n",
       "      <td>3</td>\n",
       "      <td>407</td>\n",
       "      <td>13 Little Blue Envelopes (Little Blue Envelope  #1)</td>\n",
       "      <td>322</td>\n",
       "      <td>2010-12-21</td>\n",
       "      <td>135</td>\n",
       "    </tr>\n",
       "    <tr>\n",
       "      <th>3</th>\n",
       "      <td>4</td>\n",
       "      <td>82</td>\n",
       "      <td>1491: New Revelations of the Americas Before Columbus</td>\n",
       "      <td>541</td>\n",
       "      <td>2006-10-10</td>\n",
       "      <td>309</td>\n",
       "    </tr>\n",
       "    <tr>\n",
       "      <th>4</th>\n",
       "      <td>5</td>\n",
       "      <td>125</td>\n",
       "      <td>1776</td>\n",
       "      <td>386</td>\n",
       "      <td>2006-07-04</td>\n",
       "      <td>268</td>\n",
       "    </tr>\n",
       "  </tbody>\n",
       "</table>\n",
       "</div>"
      ],
      "text/plain": [
       "   book_id  author_id                                                  title  \\\n",
       "0        1        546                                           'Salem's Lot   \n",
       "1        2        465                     1 000 Places to See Before You Die   \n",
       "2        3        407    13 Little Blue Envelopes (Little Blue Envelope  #1)   \n",
       "3        4         82  1491: New Revelations of the Americas Before Columbus   \n",
       "4        5        125                                                   1776   \n",
       "\n",
       "   num_pages publication_date  publisher_id  \n",
       "0        594       2005-11-01            93  \n",
       "1        992       2003-05-22           336  \n",
       "2        322       2010-12-21           135  \n",
       "3        541       2006-10-10           309  \n",
       "4        386       2006-07-04           268  "
      ]
     },
     "execution_count": 3,
     "metadata": {},
     "output_type": "execute_result"
    }
   ],
   "source": [
    "query = '''SELECT * FROM books LIMIT 5'''\n",
    "con=engine.connect()\n",
    "pd.io.sql.read_sql(sql=text(query), con = con)"
   ]
  },
  {
   "cell_type": "markdown",
   "id": "64eaf0c6",
   "metadata": {},
   "source": [
    "### authors"
   ]
  },
  {
   "cell_type": "code",
   "execution_count": 4,
   "id": "8d710efd",
   "metadata": {
    "scrolled": true
   },
   "outputs": [
    {
     "data": {
      "text/html": [
       "<div>\n",
       "<style scoped>\n",
       "    .dataframe tbody tr th:only-of-type {\n",
       "        vertical-align: middle;\n",
       "    }\n",
       "\n",
       "    .dataframe tbody tr th {\n",
       "        vertical-align: top;\n",
       "    }\n",
       "\n",
       "    .dataframe thead th {\n",
       "        text-align: right;\n",
       "    }\n",
       "</style>\n",
       "<table border=\"1\" class=\"dataframe\">\n",
       "  <thead>\n",
       "    <tr style=\"text-align: right;\">\n",
       "      <th></th>\n",
       "      <th>author_id</th>\n",
       "      <th>author</th>\n",
       "    </tr>\n",
       "  </thead>\n",
       "  <tbody>\n",
       "    <tr>\n",
       "      <th>0</th>\n",
       "      <td>1</td>\n",
       "      <td>A.S. Byatt</td>\n",
       "    </tr>\n",
       "    <tr>\n",
       "      <th>1</th>\n",
       "      <td>2</td>\n",
       "      <td>Aesop/Laura Harris/Laura Gibbs</td>\n",
       "    </tr>\n",
       "    <tr>\n",
       "      <th>2</th>\n",
       "      <td>3</td>\n",
       "      <td>Agatha Christie</td>\n",
       "    </tr>\n",
       "    <tr>\n",
       "      <th>3</th>\n",
       "      <td>4</td>\n",
       "      <td>Alan Brennert</td>\n",
       "    </tr>\n",
       "    <tr>\n",
       "      <th>4</th>\n",
       "      <td>5</td>\n",
       "      <td>Alan Moore/David   Lloyd</td>\n",
       "    </tr>\n",
       "  </tbody>\n",
       "</table>\n",
       "</div>"
      ],
      "text/plain": [
       "   author_id                          author\n",
       "0          1                      A.S. Byatt\n",
       "1          2  Aesop/Laura Harris/Laura Gibbs\n",
       "2          3                 Agatha Christie\n",
       "3          4                   Alan Brennert\n",
       "4          5        Alan Moore/David   Lloyd"
      ]
     },
     "execution_count": 4,
     "metadata": {},
     "output_type": "execute_result"
    }
   ],
   "source": [
    "query = '''SELECT * FROM authors LIMIT 5'''\n",
    "pd.io.sql.read_sql(sql=text(query), con = con)"
   ]
  },
  {
   "cell_type": "markdown",
   "id": "1147155b",
   "metadata": {},
   "source": [
    "### publishers"
   ]
  },
  {
   "cell_type": "code",
   "execution_count": 5,
   "id": "dc360d50",
   "metadata": {
    "scrolled": true
   },
   "outputs": [
    {
     "data": {
      "text/html": [
       "<div>\n",
       "<style scoped>\n",
       "    .dataframe tbody tr th:only-of-type {\n",
       "        vertical-align: middle;\n",
       "    }\n",
       "\n",
       "    .dataframe tbody tr th {\n",
       "        vertical-align: top;\n",
       "    }\n",
       "\n",
       "    .dataframe thead th {\n",
       "        text-align: right;\n",
       "    }\n",
       "</style>\n",
       "<table border=\"1\" class=\"dataframe\">\n",
       "  <thead>\n",
       "    <tr style=\"text-align: right;\">\n",
       "      <th></th>\n",
       "      <th>publisher_id</th>\n",
       "      <th>publisher</th>\n",
       "    </tr>\n",
       "  </thead>\n",
       "  <tbody>\n",
       "    <tr>\n",
       "      <th>0</th>\n",
       "      <td>1</td>\n",
       "      <td>Ace</td>\n",
       "    </tr>\n",
       "    <tr>\n",
       "      <th>1</th>\n",
       "      <td>2</td>\n",
       "      <td>Ace Book</td>\n",
       "    </tr>\n",
       "    <tr>\n",
       "      <th>2</th>\n",
       "      <td>3</td>\n",
       "      <td>Ace Books</td>\n",
       "    </tr>\n",
       "    <tr>\n",
       "      <th>3</th>\n",
       "      <td>4</td>\n",
       "      <td>Ace Hardcover</td>\n",
       "    </tr>\n",
       "    <tr>\n",
       "      <th>4</th>\n",
       "      <td>5</td>\n",
       "      <td>Addison Wesley Publishing Company</td>\n",
       "    </tr>\n",
       "  </tbody>\n",
       "</table>\n",
       "</div>"
      ],
      "text/plain": [
       "   publisher_id                          publisher\n",
       "0             1                                Ace\n",
       "1             2                           Ace Book\n",
       "2             3                          Ace Books\n",
       "3             4                      Ace Hardcover\n",
       "4             5  Addison Wesley Publishing Company"
      ]
     },
     "execution_count": 5,
     "metadata": {},
     "output_type": "execute_result"
    }
   ],
   "source": [
    "query = '''SELECT * FROM publishers LIMIT 5'''\n",
    "pd.io.sql.read_sql(sql=text(query), con = con)"
   ]
  },
  {
   "cell_type": "markdown",
   "id": "ae4c0efa",
   "metadata": {},
   "source": [
    "### ratings"
   ]
  },
  {
   "cell_type": "code",
   "execution_count": 6,
   "id": "9705a5f6",
   "metadata": {
    "scrolled": true
   },
   "outputs": [
    {
     "data": {
      "text/html": [
       "<div>\n",
       "<style scoped>\n",
       "    .dataframe tbody tr th:only-of-type {\n",
       "        vertical-align: middle;\n",
       "    }\n",
       "\n",
       "    .dataframe tbody tr th {\n",
       "        vertical-align: top;\n",
       "    }\n",
       "\n",
       "    .dataframe thead th {\n",
       "        text-align: right;\n",
       "    }\n",
       "</style>\n",
       "<table border=\"1\" class=\"dataframe\">\n",
       "  <thead>\n",
       "    <tr style=\"text-align: right;\">\n",
       "      <th></th>\n",
       "      <th>rating_id</th>\n",
       "      <th>book_id</th>\n",
       "      <th>username</th>\n",
       "      <th>rating</th>\n",
       "    </tr>\n",
       "  </thead>\n",
       "  <tbody>\n",
       "    <tr>\n",
       "      <th>0</th>\n",
       "      <td>1</td>\n",
       "      <td>1</td>\n",
       "      <td>ryanfranco</td>\n",
       "      <td>4</td>\n",
       "    </tr>\n",
       "    <tr>\n",
       "      <th>1</th>\n",
       "      <td>2</td>\n",
       "      <td>1</td>\n",
       "      <td>grantpatricia</td>\n",
       "      <td>2</td>\n",
       "    </tr>\n",
       "    <tr>\n",
       "      <th>2</th>\n",
       "      <td>3</td>\n",
       "      <td>1</td>\n",
       "      <td>brandtandrea</td>\n",
       "      <td>5</td>\n",
       "    </tr>\n",
       "    <tr>\n",
       "      <th>3</th>\n",
       "      <td>4</td>\n",
       "      <td>2</td>\n",
       "      <td>lorichen</td>\n",
       "      <td>3</td>\n",
       "    </tr>\n",
       "    <tr>\n",
       "      <th>4</th>\n",
       "      <td>5</td>\n",
       "      <td>2</td>\n",
       "      <td>mariokeller</td>\n",
       "      <td>2</td>\n",
       "    </tr>\n",
       "  </tbody>\n",
       "</table>\n",
       "</div>"
      ],
      "text/plain": [
       "   rating_id  book_id       username  rating\n",
       "0          1        1     ryanfranco       4\n",
       "1          2        1  grantpatricia       2\n",
       "2          3        1   brandtandrea       5\n",
       "3          4        2       lorichen       3\n",
       "4          5        2    mariokeller       2"
      ]
     },
     "execution_count": 6,
     "metadata": {},
     "output_type": "execute_result"
    }
   ],
   "source": [
    "query = '''SELECT * FROM ratings LIMIT 5'''\n",
    "pd.io.sql.read_sql(sql=text(query), con = con)"
   ]
  },
  {
   "cell_type": "markdown",
   "id": "f843a30e",
   "metadata": {},
   "source": [
    "### reviews"
   ]
  },
  {
   "cell_type": "code",
   "execution_count": 7,
   "id": "b0b492aa",
   "metadata": {
    "scrolled": true
   },
   "outputs": [
    {
     "data": {
      "text/html": [
       "<div>\n",
       "<style scoped>\n",
       "    .dataframe tbody tr th:only-of-type {\n",
       "        vertical-align: middle;\n",
       "    }\n",
       "\n",
       "    .dataframe tbody tr th {\n",
       "        vertical-align: top;\n",
       "    }\n",
       "\n",
       "    .dataframe thead th {\n",
       "        text-align: right;\n",
       "    }\n",
       "</style>\n",
       "<table border=\"1\" class=\"dataframe\">\n",
       "  <thead>\n",
       "    <tr style=\"text-align: right;\">\n",
       "      <th></th>\n",
       "      <th>review_id</th>\n",
       "      <th>book_id</th>\n",
       "      <th>username</th>\n",
       "      <th>text</th>\n",
       "    </tr>\n",
       "  </thead>\n",
       "  <tbody>\n",
       "    <tr>\n",
       "      <th>0</th>\n",
       "      <td>1</td>\n",
       "      <td>1</td>\n",
       "      <td>brandtandrea</td>\n",
       "      <td>Mention society tell send professor analysis. Over provide race technology continue these.</td>\n",
       "    </tr>\n",
       "    <tr>\n",
       "      <th>1</th>\n",
       "      <td>2</td>\n",
       "      <td>1</td>\n",
       "      <td>ryanfranco</td>\n",
       "      <td>Foot glass pretty audience hit themselves. Among admit investment argue security.</td>\n",
       "    </tr>\n",
       "    <tr>\n",
       "      <th>2</th>\n",
       "      <td>3</td>\n",
       "      <td>2</td>\n",
       "      <td>lorichen</td>\n",
       "      <td>Listen treat keep worry. Miss husband tax but person sport treatment industry. Kitchen decision deep the. Social party body the.</td>\n",
       "    </tr>\n",
       "    <tr>\n",
       "      <th>3</th>\n",
       "      <td>4</td>\n",
       "      <td>3</td>\n",
       "      <td>johnsonamanda</td>\n",
       "      <td>Finally month interesting blue could nature cultural bit. Prepare beat finish grow that smile teach. Dream me play near.</td>\n",
       "    </tr>\n",
       "    <tr>\n",
       "      <th>4</th>\n",
       "      <td>5</td>\n",
       "      <td>3</td>\n",
       "      <td>scotttamara</td>\n",
       "      <td>Nation purpose heavy give wait song will. List dinner another whole positive radio fast. Music staff many green.</td>\n",
       "    </tr>\n",
       "  </tbody>\n",
       "</table>\n",
       "</div>"
      ],
      "text/plain": [
       "   review_id  book_id       username  \\\n",
       "0          1        1   brandtandrea   \n",
       "1          2        1     ryanfranco   \n",
       "2          3        2       lorichen   \n",
       "3          4        3  johnsonamanda   \n",
       "4          5        3    scotttamara   \n",
       "\n",
       "                                                                                                                               text  \n",
       "0                                        Mention society tell send professor analysis. Over provide race technology continue these.  \n",
       "1                                                 Foot glass pretty audience hit themselves. Among admit investment argue security.  \n",
       "2  Listen treat keep worry. Miss husband tax but person sport treatment industry. Kitchen decision deep the. Social party body the.  \n",
       "3          Finally month interesting blue could nature cultural bit. Prepare beat finish grow that smile teach. Dream me play near.  \n",
       "4                  Nation purpose heavy give wait song will. List dinner another whole positive radio fast. Music staff many green.  "
      ]
     },
     "execution_count": 7,
     "metadata": {},
     "output_type": "execute_result"
    }
   ],
   "source": [
    "query = '''SELECT * FROM reviews LIMIT 5'''\n",
    "pd.io.sql.read_sql(sql=text(query), con = con)"
   ]
  },
  {
   "cell_type": "code",
   "execution_count": 8,
   "id": "717c8bd7",
   "metadata": {},
   "outputs": [
    {
     "data": {
      "text/html": [
       "<div>\n",
       "<style scoped>\n",
       "    .dataframe tbody tr th:only-of-type {\n",
       "        vertical-align: middle;\n",
       "    }\n",
       "\n",
       "    .dataframe tbody tr th {\n",
       "        vertical-align: top;\n",
       "    }\n",
       "\n",
       "    .dataframe thead th {\n",
       "        text-align: right;\n",
       "    }\n",
       "</style>\n",
       "<table border=\"1\" class=\"dataframe\">\n",
       "  <thead>\n",
       "    <tr style=\"text-align: right;\">\n",
       "      <th></th>\n",
       "      <th>schemaname</th>\n",
       "      <th>tablename</th>\n",
       "      <th>tableowner</th>\n",
       "      <th>tablespace</th>\n",
       "      <th>hasindexes</th>\n",
       "      <th>hasrules</th>\n",
       "      <th>hastriggers</th>\n",
       "      <th>rowsecurity</th>\n",
       "    </tr>\n",
       "  </thead>\n",
       "  <tbody>\n",
       "    <tr>\n",
       "      <th>0</th>\n",
       "      <td>public</td>\n",
       "      <td>orders</td>\n",
       "      <td>praktikum_admin</td>\n",
       "      <td>None</td>\n",
       "      <td>True</td>\n",
       "      <td>False</td>\n",
       "      <td>False</td>\n",
       "      <td>False</td>\n",
       "    </tr>\n",
       "    <tr>\n",
       "      <th>1</th>\n",
       "      <td>public</td>\n",
       "      <td>visits</td>\n",
       "      <td>praktikum_admin</td>\n",
       "      <td>None</td>\n",
       "      <td>True</td>\n",
       "      <td>False</td>\n",
       "      <td>False</td>\n",
       "      <td>False</td>\n",
       "    </tr>\n",
       "    <tr>\n",
       "      <th>2</th>\n",
       "      <td>public</td>\n",
       "      <td>advertisment_costs</td>\n",
       "      <td>praktikum_admin</td>\n",
       "      <td>None</td>\n",
       "      <td>True</td>\n",
       "      <td>False</td>\n",
       "      <td>False</td>\n",
       "      <td>False</td>\n",
       "    </tr>\n",
       "    <tr>\n",
       "      <th>3</th>\n",
       "      <td>public</td>\n",
       "      <td>authors</td>\n",
       "      <td>praktikum_admin</td>\n",
       "      <td>None</td>\n",
       "      <td>True</td>\n",
       "      <td>False</td>\n",
       "      <td>True</td>\n",
       "      <td>False</td>\n",
       "    </tr>\n",
       "    <tr>\n",
       "      <th>4</th>\n",
       "      <td>public</td>\n",
       "      <td>second</td>\n",
       "      <td>praktikum_student</td>\n",
       "      <td>None</td>\n",
       "      <td>False</td>\n",
       "      <td>False</td>\n",
       "      <td>False</td>\n",
       "      <td>False</td>\n",
       "    </tr>\n",
       "    <tr>\n",
       "      <th>5</th>\n",
       "      <td>public</td>\n",
       "      <td>second_b</td>\n",
       "      <td>praktikum_student</td>\n",
       "      <td>None</td>\n",
       "      <td>False</td>\n",
       "      <td>False</td>\n",
       "      <td>False</td>\n",
       "      <td>False</td>\n",
       "    </tr>\n",
       "    <tr>\n",
       "      <th>6</th>\n",
       "      <td>public</td>\n",
       "      <td>publishers</td>\n",
       "      <td>praktikum_admin</td>\n",
       "      <td>None</td>\n",
       "      <td>True</td>\n",
       "      <td>False</td>\n",
       "      <td>True</td>\n",
       "      <td>False</td>\n",
       "    </tr>\n",
       "    <tr>\n",
       "      <th>7</th>\n",
       "      <td>public</td>\n",
       "      <td>author</td>\n",
       "      <td>praktikum_student</td>\n",
       "      <td>None</td>\n",
       "      <td>True</td>\n",
       "      <td>False</td>\n",
       "      <td>False</td>\n",
       "      <td>False</td>\n",
       "    </tr>\n",
       "    <tr>\n",
       "      <th>8</th>\n",
       "      <td>public</td>\n",
       "      <td>reviews</td>\n",
       "      <td>praktikum_admin</td>\n",
       "      <td>None</td>\n",
       "      <td>True</td>\n",
       "      <td>False</td>\n",
       "      <td>True</td>\n",
       "      <td>False</td>\n",
       "    </tr>\n",
       "    <tr>\n",
       "      <th>9</th>\n",
       "      <td>public</td>\n",
       "      <td>ratings</td>\n",
       "      <td>praktikum_admin</td>\n",
       "      <td>None</td>\n",
       "      <td>True</td>\n",
       "      <td>False</td>\n",
       "      <td>True</td>\n",
       "      <td>False</td>\n",
       "    </tr>\n",
       "    <tr>\n",
       "      <th>10</th>\n",
       "      <td>public</td>\n",
       "      <td>books</td>\n",
       "      <td>praktikum_admin</td>\n",
       "      <td>None</td>\n",
       "      <td>True</td>\n",
       "      <td>False</td>\n",
       "      <td>True</td>\n",
       "      <td>False</td>\n",
       "    </tr>\n",
       "  </tbody>\n",
       "</table>\n",
       "</div>"
      ],
      "text/plain": [
       "   schemaname           tablename         tableowner tablespace  hasindexes  \\\n",
       "0      public              orders    praktikum_admin       None        True   \n",
       "1      public              visits    praktikum_admin       None        True   \n",
       "2      public  advertisment_costs    praktikum_admin       None        True   \n",
       "3      public             authors    praktikum_admin       None        True   \n",
       "4      public              second  praktikum_student       None       False   \n",
       "5      public            second_b  praktikum_student       None       False   \n",
       "6      public          publishers    praktikum_admin       None        True   \n",
       "7      public              author  praktikum_student       None        True   \n",
       "8      public             reviews    praktikum_admin       None        True   \n",
       "9      public             ratings    praktikum_admin       None        True   \n",
       "10     public               books    praktikum_admin       None        True   \n",
       "\n",
       "    hasrules  hastriggers  rowsecurity  \n",
       "0      False        False        False  \n",
       "1      False        False        False  \n",
       "2      False        False        False  \n",
       "3      False         True        False  \n",
       "4      False        False        False  \n",
       "5      False        False        False  \n",
       "6      False         True        False  \n",
       "7      False        False        False  \n",
       "8      False         True        False  \n",
       "9      False         True        False  \n",
       "10     False         True        False  "
      ]
     },
     "metadata": {},
     "output_type": "display_data"
    },
    {
     "data": {
      "text/html": [
       "<div>\n",
       "<style scoped>\n",
       "    .dataframe tbody tr th:only-of-type {\n",
       "        vertical-align: middle;\n",
       "    }\n",
       "\n",
       "    .dataframe tbody tr th {\n",
       "        vertical-align: top;\n",
       "    }\n",
       "\n",
       "    .dataframe thead th {\n",
       "        text-align: right;\n",
       "    }\n",
       "</style>\n",
       "<table border=\"1\" class=\"dataframe\">\n",
       "  <thead>\n",
       "    <tr style=\"text-align: right;\">\n",
       "      <th></th>\n",
       "      <th>table_name</th>\n",
       "      <th>column_name</th>\n",
       "      <th>data_type</th>\n",
       "      <th>is_nullable</th>\n",
       "    </tr>\n",
       "  </thead>\n",
       "  <tbody>\n",
       "    <tr>\n",
       "      <th>0</th>\n",
       "      <td>authors</td>\n",
       "      <td>author_id</td>\n",
       "      <td>integer</td>\n",
       "      <td>NO</td>\n",
       "    </tr>\n",
       "    <tr>\n",
       "      <th>1</th>\n",
       "      <td>authors</td>\n",
       "      <td>author</td>\n",
       "      <td>text</td>\n",
       "      <td>YES</td>\n",
       "    </tr>\n",
       "    <tr>\n",
       "      <th>2</th>\n",
       "      <td>publishers</td>\n",
       "      <td>publisher_id</td>\n",
       "      <td>integer</td>\n",
       "      <td>NO</td>\n",
       "    </tr>\n",
       "    <tr>\n",
       "      <th>3</th>\n",
       "      <td>publishers</td>\n",
       "      <td>publisher</td>\n",
       "      <td>text</td>\n",
       "      <td>YES</td>\n",
       "    </tr>\n",
       "    <tr>\n",
       "      <th>4</th>\n",
       "      <td>reviews</td>\n",
       "      <td>review_id</td>\n",
       "      <td>integer</td>\n",
       "      <td>NO</td>\n",
       "    </tr>\n",
       "    <tr>\n",
       "      <th>5</th>\n",
       "      <td>reviews</td>\n",
       "      <td>book_id</td>\n",
       "      <td>integer</td>\n",
       "      <td>YES</td>\n",
       "    </tr>\n",
       "    <tr>\n",
       "      <th>6</th>\n",
       "      <td>reviews</td>\n",
       "      <td>username</td>\n",
       "      <td>text</td>\n",
       "      <td>YES</td>\n",
       "    </tr>\n",
       "    <tr>\n",
       "      <th>7</th>\n",
       "      <td>reviews</td>\n",
       "      <td>text</td>\n",
       "      <td>text</td>\n",
       "      <td>YES</td>\n",
       "    </tr>\n",
       "    <tr>\n",
       "      <th>8</th>\n",
       "      <td>ratings</td>\n",
       "      <td>rating_id</td>\n",
       "      <td>integer</td>\n",
       "      <td>NO</td>\n",
       "    </tr>\n",
       "    <tr>\n",
       "      <th>9</th>\n",
       "      <td>ratings</td>\n",
       "      <td>book_id</td>\n",
       "      <td>integer</td>\n",
       "      <td>YES</td>\n",
       "    </tr>\n",
       "    <tr>\n",
       "      <th>10</th>\n",
       "      <td>ratings</td>\n",
       "      <td>username</td>\n",
       "      <td>text</td>\n",
       "      <td>YES</td>\n",
       "    </tr>\n",
       "    <tr>\n",
       "      <th>11</th>\n",
       "      <td>ratings</td>\n",
       "      <td>rating</td>\n",
       "      <td>integer</td>\n",
       "      <td>YES</td>\n",
       "    </tr>\n",
       "    <tr>\n",
       "      <th>12</th>\n",
       "      <td>books</td>\n",
       "      <td>book_id</td>\n",
       "      <td>integer</td>\n",
       "      <td>NO</td>\n",
       "    </tr>\n",
       "    <tr>\n",
       "      <th>13</th>\n",
       "      <td>books</td>\n",
       "      <td>author_id</td>\n",
       "      <td>integer</td>\n",
       "      <td>YES</td>\n",
       "    </tr>\n",
       "    <tr>\n",
       "      <th>14</th>\n",
       "      <td>books</td>\n",
       "      <td>title</td>\n",
       "      <td>text</td>\n",
       "      <td>YES</td>\n",
       "    </tr>\n",
       "    <tr>\n",
       "      <th>15</th>\n",
       "      <td>books</td>\n",
       "      <td>num_pages</td>\n",
       "      <td>integer</td>\n",
       "      <td>YES</td>\n",
       "    </tr>\n",
       "    <tr>\n",
       "      <th>16</th>\n",
       "      <td>books</td>\n",
       "      <td>publication_date</td>\n",
       "      <td>date</td>\n",
       "      <td>YES</td>\n",
       "    </tr>\n",
       "    <tr>\n",
       "      <th>17</th>\n",
       "      <td>books</td>\n",
       "      <td>publisher_id</td>\n",
       "      <td>integer</td>\n",
       "      <td>YES</td>\n",
       "    </tr>\n",
       "  </tbody>\n",
       "</table>\n",
       "</div>"
      ],
      "text/plain": [
       "    table_name       column_name data_type is_nullable\n",
       "0      authors         author_id   integer          NO\n",
       "1      authors            author      text         YES\n",
       "2   publishers      publisher_id   integer          NO\n",
       "3   publishers         publisher      text         YES\n",
       "4      reviews         review_id   integer          NO\n",
       "5      reviews           book_id   integer         YES\n",
       "6      reviews          username      text         YES\n",
       "7      reviews              text      text         YES\n",
       "8      ratings         rating_id   integer          NO\n",
       "9      ratings           book_id   integer         YES\n",
       "10     ratings          username      text         YES\n",
       "11     ratings            rating   integer         YES\n",
       "12       books           book_id   integer          NO\n",
       "13       books         author_id   integer         YES\n",
       "14       books             title      text         YES\n",
       "15       books         num_pages   integer         YES\n",
       "16       books  publication_date      date         YES\n",
       "17       books      publisher_id   integer         YES"
      ]
     },
     "metadata": {},
     "output_type": "display_data"
    }
   ],
   "source": [
    "# какие ещё таблицы доступны в базе\n",
    "display(pd.io.sql.read_sql('''\n",
    "\n",
    "SELECT *\n",
    "FROM pg_catalog.pg_tables\n",
    "WHERE schemaname != 'pg_catalog' AND\n",
    "      schemaname != 'information_schema';\n",
    "\n",
    "''', con = engine))\n",
    "\n",
    "\n",
    "# смотрим на типы столбцов в интересующих таблицах\n",
    "display(pd.io.sql.read_sql('''\n",
    "SELECT \n",
    "    table_name, \n",
    "    column_name, \n",
    "    data_type, \n",
    "    is_nullable\n",
    "FROM INFORMATION_SCHEMA.COLUMNS \n",
    "WHERE table_name IN ('books', 'authors', 'publishers', 'ratings', 'reviews');\n",
    "''', con = engine))\n"
   ]
  },
  {
   "cell_type": "markdown",
   "id": "1afdb5e2",
   "metadata": {},
   "source": [
    "## SQL-запросы"
   ]
  },
  {
   "cell_type": "markdown",
   "id": "8d2dadf8",
   "metadata": {},
   "source": [
    "### Посчитайте, сколько книг вышло после 1 января 2000 года"
   ]
  },
  {
   "cell_type": "code",
   "execution_count": 9,
   "id": "7907854f",
   "metadata": {},
   "outputs": [
    {
     "data": {
      "text/html": [
       "<div>\n",
       "<style scoped>\n",
       "    .dataframe tbody tr th:only-of-type {\n",
       "        vertical-align: middle;\n",
       "    }\n",
       "\n",
       "    .dataframe tbody tr th {\n",
       "        vertical-align: top;\n",
       "    }\n",
       "\n",
       "    .dataframe thead th {\n",
       "        text-align: right;\n",
       "    }\n",
       "</style>\n",
       "<table border=\"1\" class=\"dataframe\">\n",
       "  <thead>\n",
       "    <tr style=\"text-align: right;\">\n",
       "      <th></th>\n",
       "      <th>number_of_books</th>\n",
       "    </tr>\n",
       "  </thead>\n",
       "  <tbody>\n",
       "    <tr>\n",
       "      <th>0</th>\n",
       "      <td>821</td>\n",
       "    </tr>\n",
       "  </tbody>\n",
       "</table>\n",
       "</div>"
      ],
      "text/plain": [
       "   number_of_books\n",
       "0              821"
      ]
     },
     "execution_count": 9,
     "metadata": {},
     "output_type": "execute_result"
    }
   ],
   "source": [
    "query = '''SELECT \n",
    "                COUNT(*) AS number_of_books\n",
    "                FROM\n",
    "                    books\n",
    "                WHERE publication_date >= '2000-01-01';'''\n",
    "con=engine.connect()\n",
    "pd.io.sql.read_sql(sql=text(query), con = con)"
   ]
  },
  {
   "cell_type": "markdown",
   "id": "9c3b8b8a",
   "metadata": {},
   "source": [
    "Таким образом, после 1 января 2000 года вышла 821 книга."
   ]
  },
  {
   "cell_type": "markdown",
   "id": "3a6b2129",
   "metadata": {},
   "source": [
    "### Для каждой книги посчитайте количество обзоров и среднюю оценку"
   ]
  },
  {
   "cell_type": "code",
   "execution_count": 10,
   "id": "78e8fa3a",
   "metadata": {},
   "outputs": [
    {
     "data": {
      "text/html": [
       "<div>\n",
       "<style scoped>\n",
       "    .dataframe tbody tr th:only-of-type {\n",
       "        vertical-align: middle;\n",
       "    }\n",
       "\n",
       "    .dataframe tbody tr th {\n",
       "        vertical-align: top;\n",
       "    }\n",
       "\n",
       "    .dataframe thead th {\n",
       "        text-align: right;\n",
       "    }\n",
       "</style>\n",
       "<table border=\"1\" class=\"dataframe\">\n",
       "  <thead>\n",
       "    <tr style=\"text-align: right;\">\n",
       "      <th></th>\n",
       "      <th>book_id</th>\n",
       "      <th>title</th>\n",
       "      <th>number_of_reviews</th>\n",
       "      <th>average_rating</th>\n",
       "    </tr>\n",
       "  </thead>\n",
       "  <tbody>\n",
       "    <tr>\n",
       "      <th>0</th>\n",
       "      <td>86</td>\n",
       "      <td>Arrows of the Queen (Heralds of Valdemar  #1)</td>\n",
       "      <td>2</td>\n",
       "      <td>5.00</td>\n",
       "    </tr>\n",
       "    <tr>\n",
       "      <th>1</th>\n",
       "      <td>901</td>\n",
       "      <td>The Walking Dead  Book One (The Walking Dead #1-12)</td>\n",
       "      <td>2</td>\n",
       "      <td>5.00</td>\n",
       "    </tr>\n",
       "    <tr>\n",
       "      <th>2</th>\n",
       "      <td>390</td>\n",
       "      <td>Light in August</td>\n",
       "      <td>2</td>\n",
       "      <td>5.00</td>\n",
       "    </tr>\n",
       "    <tr>\n",
       "      <th>3</th>\n",
       "      <td>972</td>\n",
       "      <td>Wherever You Go  There You Are: Mindfulness Meditation in Everyday Life</td>\n",
       "      <td>2</td>\n",
       "      <td>5.00</td>\n",
       "    </tr>\n",
       "    <tr>\n",
       "      <th>4</th>\n",
       "      <td>136</td>\n",
       "      <td>Captivating: Unveiling the Mystery of a Woman's Soul</td>\n",
       "      <td>2</td>\n",
       "      <td>5.00</td>\n",
       "    </tr>\n",
       "    <tr>\n",
       "      <th>...</th>\n",
       "      <td>...</td>\n",
       "      <td>...</td>\n",
       "      <td>...</td>\n",
       "      <td>...</td>\n",
       "    </tr>\n",
       "    <tr>\n",
       "      <th>995</th>\n",
       "      <td>915</td>\n",
       "      <td>The World Is Flat: A Brief History of the Twenty-first Century</td>\n",
       "      <td>3</td>\n",
       "      <td>2.25</td>\n",
       "    </tr>\n",
       "    <tr>\n",
       "      <th>996</th>\n",
       "      <td>316</td>\n",
       "      <td>His Excellency: George Washington</td>\n",
       "      <td>2</td>\n",
       "      <td>2.00</td>\n",
       "    </tr>\n",
       "    <tr>\n",
       "      <th>997</th>\n",
       "      <td>202</td>\n",
       "      <td>Drowning Ruth</td>\n",
       "      <td>3</td>\n",
       "      <td>2.00</td>\n",
       "    </tr>\n",
       "    <tr>\n",
       "      <th>998</th>\n",
       "      <td>371</td>\n",
       "      <td>Junky</td>\n",
       "      <td>2</td>\n",
       "      <td>2.00</td>\n",
       "    </tr>\n",
       "    <tr>\n",
       "      <th>999</th>\n",
       "      <td>303</td>\n",
       "      <td>Harvesting the Heart</td>\n",
       "      <td>2</td>\n",
       "      <td>1.50</td>\n",
       "    </tr>\n",
       "  </tbody>\n",
       "</table>\n",
       "<p>1000 rows × 4 columns</p>\n",
       "</div>"
      ],
      "text/plain": [
       "     book_id  \\\n",
       "0         86   \n",
       "1        901   \n",
       "2        390   \n",
       "3        972   \n",
       "4        136   \n",
       "..       ...   \n",
       "995      915   \n",
       "996      316   \n",
       "997      202   \n",
       "998      371   \n",
       "999      303   \n",
       "\n",
       "                                                                       title  \\\n",
       "0                              Arrows of the Queen (Heralds of Valdemar  #1)   \n",
       "1                        The Walking Dead  Book One (The Walking Dead #1-12)   \n",
       "2                                                            Light in August   \n",
       "3    Wherever You Go  There You Are: Mindfulness Meditation in Everyday Life   \n",
       "4                       Captivating: Unveiling the Mystery of a Woman's Soul   \n",
       "..                                                                       ...   \n",
       "995           The World Is Flat: A Brief History of the Twenty-first Century   \n",
       "996                                        His Excellency: George Washington   \n",
       "997                                                            Drowning Ruth   \n",
       "998                                                                    Junky   \n",
       "999                                                     Harvesting the Heart   \n",
       "\n",
       "     number_of_reviews  average_rating  \n",
       "0                    2            5.00  \n",
       "1                    2            5.00  \n",
       "2                    2            5.00  \n",
       "3                    2            5.00  \n",
       "4                    2            5.00  \n",
       "..                 ...             ...  \n",
       "995                  3            2.25  \n",
       "996                  2            2.00  \n",
       "997                  3            2.00  \n",
       "998                  2            2.00  \n",
       "999                  2            1.50  \n",
       "\n",
       "[1000 rows x 4 columns]"
      ]
     },
     "execution_count": 10,
     "metadata": {},
     "output_type": "execute_result"
    }
   ],
   "source": [
    "query = ''' SELECT b.book_id,\n",
    "            b.title,\n",
    "            COUNT (DISTINCT rw.review_id) AS number_of_reviews, \n",
    "            ROUND (avg(r.rating), 2) AS average_rating\n",
    "            FROM reviews AS rw\n",
    "                RIGHT OUTER JOIN BOOKS AS b ON rw.book_id=b.book_id\n",
    "                LEFT OUTER JOIN RATINGS AS r ON b.book_id = r.book_id\n",
    "            GROUP BY b.book_id\n",
    "            ORDER BY average_rating DESC'''\n",
    "pd.io.sql.read_sql(sql=text(query), con = con)"
   ]
  },
  {
   "cell_type": "markdown",
   "id": "124675cc",
   "metadata": {},
   "source": [
    "Таким образом, для каждой книги мы по id и заголовку выводим количество образов и среднюю оценку. Так, например, для книги A Woman of Substance (Emma Harte Saga #1), id которой 55, количество образов равно 2, а средняя оценка равна 5.0."
   ]
  },
  {
   "cell_type": "markdown",
   "id": "ae05c556",
   "metadata": {},
   "source": [
    "### Определите издательство, которое выпустило наибольшее число книг толще 50 страниц — так вы исключите из анализа брошюры"
   ]
  },
  {
   "cell_type": "code",
   "execution_count": 11,
   "id": "e606a0cb",
   "metadata": {},
   "outputs": [
    {
     "data": {
      "text/html": [
       "<div>\n",
       "<style scoped>\n",
       "    .dataframe tbody tr th:only-of-type {\n",
       "        vertical-align: middle;\n",
       "    }\n",
       "\n",
       "    .dataframe tbody tr th {\n",
       "        vertical-align: top;\n",
       "    }\n",
       "\n",
       "    .dataframe thead th {\n",
       "        text-align: right;\n",
       "    }\n",
       "</style>\n",
       "<table border=\"1\" class=\"dataframe\">\n",
       "  <thead>\n",
       "    <tr style=\"text-align: right;\">\n",
       "      <th></th>\n",
       "      <th>publisher</th>\n",
       "      <th>number_of_books</th>\n",
       "    </tr>\n",
       "  </thead>\n",
       "  <tbody>\n",
       "    <tr>\n",
       "      <th>0</th>\n",
       "      <td>Penguin Books</td>\n",
       "      <td>42</td>\n",
       "    </tr>\n",
       "  </tbody>\n",
       "</table>\n",
       "</div>"
      ],
      "text/plain": [
       "       publisher  number_of_books\n",
       "0  Penguin Books               42"
      ]
     },
     "execution_count": 11,
     "metadata": {},
     "output_type": "execute_result"
    }
   ],
   "source": [
    "query = ''' SELECT \n",
    "            p.publisher,\n",
    "            COUNT(b.book_id) AS number_of_books\n",
    "            FROM publishers AS p\n",
    "                JOIN books AS b ON p.publisher_id=b.publisher_id\n",
    "            WHERE b.num_pages > 50\n",
    "            GROUP BY p.publisher_id\n",
    "            ORDER BY count(b.book_id) DESC\n",
    "            LIMIT 1'''\n",
    "pd.io.sql.read_sql(sql=text(query), con = con)"
   ]
  },
  {
   "cell_type": "markdown",
   "id": "43bc3cd5",
   "metadata": {},
   "source": [
    "Таким образом, издательством, которое выпустило наибольшее число книг толще 50 страниц, является Penguin Books\tи оно выпустило 42 книги толще 50 страниц, что является наибольшим числом."
   ]
  },
  {
   "cell_type": "markdown",
   "id": "1672fb3d",
   "metadata": {},
   "source": [
    "### Определите автора с самой высокой средней оценкой книг — учитывайте только книги с 50 и более оценками"
   ]
  },
  {
   "cell_type": "code",
   "execution_count": 19,
   "id": "ccf7677b",
   "metadata": {},
   "outputs": [
    {
     "data": {
      "text/html": [
       "<div>\n",
       "<style scoped>\n",
       "    .dataframe tbody tr th:only-of-type {\n",
       "        vertical-align: middle;\n",
       "    }\n",
       "\n",
       "    .dataframe tbody tr th {\n",
       "        vertical-align: top;\n",
       "    }\n",
       "\n",
       "    .dataframe thead th {\n",
       "        text-align: right;\n",
       "    }\n",
       "</style>\n",
       "<table border=\"1\" class=\"dataframe\">\n",
       "  <thead>\n",
       "    <tr style=\"text-align: right;\">\n",
       "      <th></th>\n",
       "      <th>author</th>\n",
       "      <th>avg_rating</th>\n",
       "    </tr>\n",
       "  </thead>\n",
       "  <tbody>\n",
       "    <tr>\n",
       "      <th>0</th>\n",
       "      <td>J.K. Rowling/Mary GrandPré</td>\n",
       "      <td>4.283844</td>\n",
       "    </tr>\n",
       "  </tbody>\n",
       "</table>\n",
       "</div>"
      ],
      "text/plain": [
       "                       author  avg_rating\n",
       "0  J.K. Rowling/Mary GrandPré    4.283844"
      ]
     },
     "execution_count": 19,
     "metadata": {},
     "output_type": "execute_result"
    }
   ],
   "source": [
    "query = '''SELECT \n",
    "                aut_avg.author,\n",
    "                AVG(aut_avg.avg_rating) AS avg_rating\n",
    "            FROM\n",
    "                    (SELECT \n",
    "                        authors.author AS author\n",
    "                       , AVG(ratings.rating) AS avg_rating\n",
    "                    FROM books\n",
    "                        LEFT JOIN authors ON books.author_id = authors.author_id\n",
    "                        LEFT JOIN ratings ON books.book_id = ratings.book_id\n",
    "                    GROUP BY \n",
    "                         books.book_id\n",
    "                         , authors.author_id\n",
    "                    HAVING\n",
    "                        COUNT(ratings.rating_id) >=50 \n",
    "                    ) AS aut_avg \n",
    "            GROUP BY    \n",
    "                aut_avg.author\n",
    "            ORDER BY\n",
    "                avg_rating DESC\n",
    "            LIMIT 1'''\n",
    "pd.io.sql.read_sql(sql=text(query), con = con)"
   ]
  },
  {
   "cell_type": "markdown",
   "id": "517a36e2",
   "metadata": {},
   "source": [
    "Таким образом, автором с самой высокой средней оценкой книг (учитываем только книги с 50 и более оценками) является J.K. Rowling/Mary GrandPré, со средней оценкой  4.283844."
   ]
  },
  {
   "cell_type": "markdown",
   "id": "4ca9cd2f",
   "metadata": {},
   "source": [
    "### Посчитайте среднее количество обзоров от пользователей, которые поставили больше 48 оценок."
   ]
  },
  {
   "cell_type": "code",
   "execution_count": 13,
   "id": "59497e80",
   "metadata": {},
   "outputs": [
    {
     "data": {
      "text/html": [
       "<div>\n",
       "<style scoped>\n",
       "    .dataframe tbody tr th:only-of-type {\n",
       "        vertical-align: middle;\n",
       "    }\n",
       "\n",
       "    .dataframe tbody tr th {\n",
       "        vertical-align: top;\n",
       "    }\n",
       "\n",
       "    .dataframe thead th {\n",
       "        text-align: right;\n",
       "    }\n",
       "</style>\n",
       "<table border=\"1\" class=\"dataframe\">\n",
       "  <thead>\n",
       "    <tr style=\"text-align: right;\">\n",
       "      <th></th>\n",
       "      <th>avg_review</th>\n",
       "    </tr>\n",
       "  </thead>\n",
       "  <tbody>\n",
       "    <tr>\n",
       "      <th>0</th>\n",
       "      <td>24.0</td>\n",
       "    </tr>\n",
       "  </tbody>\n",
       "</table>\n",
       "</div>"
      ],
      "text/plain": [
       "   avg_review\n",
       "0        24.0"
      ]
     },
     "execution_count": 13,
     "metadata": {},
     "output_type": "execute_result"
    }
   ],
   "source": [
    "query = ''' SELECT\n",
    "            AVG(review.review_cnt) AS avg_review\n",
    "            FROM\n",
    "                (SELECT COUNT(review_id) AS review_cnt\n",
    "            FROM \n",
    "                reviews\n",
    "            WHERE\n",
    "                username\n",
    "            IN \n",
    "                (SELECT username\n",
    "            FROM\n",
    "                ratings\n",
    "            GROUP BY\n",
    "                username\n",
    "            HAVING\n",
    "            COUNT(ratings) > 48)\n",
    "            GROUP BY \n",
    "                username) \n",
    "            AS\n",
    "            review;'''\n",
    "pd.io.sql.read_sql(sql=text(query), con = con)"
   ]
  },
  {
   "cell_type": "markdown",
   "id": "bc291426",
   "metadata": {},
   "source": [
    "Таким образом, среднее количество обзоров от пользователей, которые поставили больше 48 оценок, 24."
   ]
  },
  {
   "cell_type": "markdown",
   "id": "563c34e1",
   "metadata": {},
   "source": [
    "## Общий вывод"
   ]
  },
  {
   "cell_type": "markdown",
   "id": "b0f7255b",
   "metadata": {},
   "source": [
    "Так, мы открыли файлы и изучили из подзапросы. Далее, с помощью SQL запросов нашли необходимые для нас данные: \n",
    "\n",
    "- После 1 января 2000 года вышла 821 книга.\n",
    "\n",
    "- Для каждой книги мы по id и заголовку выводим количество образов и среднюю оценку. Так, например, для книги A Woman of Substance (Emma Harte Saga #1), id которой 55, количество образов равно 2, а средняя оценка равна 5.0.\n",
    "\n",
    "- Издательством, которое выпустило наибольшее число книг толще 50 страниц, является Penguin Books и оно выпустило 42 книги толще 50 страниц, что является наибольшим числом.\n",
    "\n",
    "- Автором с самой высокой средней оценкой книг (учитываем только книги с 50 и более оценками) является J.K. Rowling/Mary GrandPré, со средней оценкой 4.283844.\n",
    "\n",
    "- Среднее количество обзоров от пользователей, которые поставили больше 48 оценок, 24."
   ]
  }
 ],
 "metadata": {
  "ExecuteTimeLog": [
   {
    "duration": 503,
    "start_time": "2023-07-15T13:31:53.746Z"
   },
   {
    "duration": 11452,
    "start_time": "2023-07-15T13:31:54.251Z"
   },
   {
    "duration": 276,
    "start_time": "2023-07-15T13:32:05.705Z"
   },
   {
    "duration": 140,
    "start_time": "2023-07-15T13:32:05.983Z"
   },
   {
    "duration": 61,
    "start_time": "2023-07-15T13:32:06.125Z"
   },
   {
    "duration": 66,
    "start_time": "2023-07-15T13:32:06.188Z"
   },
   {
    "duration": 57,
    "start_time": "2023-07-15T13:32:06.256Z"
   },
   {
    "duration": 168,
    "start_time": "2023-07-15T13:32:06.315Z"
   },
   {
    "duration": 1327,
    "start_time": "2023-07-15T13:32:06.484Z"
   },
   {
    "duration": 74,
    "start_time": "2023-07-15T13:32:15.519Z"
   },
   {
    "duration": 466,
    "start_time": "2023-07-15T13:34:19.878Z"
   },
   {
    "duration": 10609,
    "start_time": "2023-07-15T13:34:20.346Z"
   },
   {
    "duration": 246,
    "start_time": "2023-07-15T13:34:30.957Z"
   },
   {
    "duration": 139,
    "start_time": "2023-07-15T13:34:31.205Z"
   },
   {
    "duration": 54,
    "start_time": "2023-07-15T13:34:31.346Z"
   },
   {
    "duration": 57,
    "start_time": "2023-07-15T13:34:31.402Z"
   },
   {
    "duration": 84,
    "start_time": "2023-07-15T13:34:31.460Z"
   },
   {
    "duration": 168,
    "start_time": "2023-07-15T13:34:31.546Z"
   },
   {
    "duration": 57,
    "start_time": "2023-07-15T13:34:31.716Z"
   },
   {
    "duration": 75,
    "start_time": "2023-07-15T13:34:31.775Z"
   },
   {
    "duration": 55,
    "start_time": "2023-07-15T13:34:31.851Z"
   },
   {
    "duration": 66,
    "start_time": "2023-07-15T13:34:31.908Z"
   },
   {
    "duration": 59,
    "start_time": "2023-07-15T13:34:31.976Z"
   },
   {
    "duration": 57,
    "start_time": "2023-07-15T13:50:07.198Z"
   },
   {
    "duration": 523,
    "start_time": "2023-07-15T13:53:50.910Z"
   },
   {
    "duration": 6486,
    "start_time": "2023-07-15T13:53:51.436Z"
   },
   {
    "duration": 242,
    "start_time": "2023-07-15T13:53:57.924Z"
   },
   {
    "duration": 132,
    "start_time": "2023-07-15T13:53:58.169Z"
   },
   {
    "duration": 36,
    "start_time": "2023-07-15T13:53:58.303Z"
   },
   {
    "duration": 33,
    "start_time": "2023-07-15T13:53:58.342Z"
   },
   {
    "duration": 34,
    "start_time": "2023-07-15T13:53:58.378Z"
   },
   {
    "duration": 165,
    "start_time": "2023-07-15T13:53:58.415Z"
   },
   {
    "duration": 55,
    "start_time": "2023-07-15T13:53:58.582Z"
   },
   {
    "duration": 78,
    "start_time": "2023-07-15T13:53:58.640Z"
   },
   {
    "duration": 32,
    "start_time": "2023-07-15T13:53:58.720Z"
   },
   {
    "duration": 38,
    "start_time": "2023-07-15T13:53:58.754Z"
   },
   {
    "duration": 36,
    "start_time": "2023-07-15T13:53:58.795Z"
   },
   {
    "duration": 165,
    "start_time": "2023-07-15T14:00:17.298Z"
   },
   {
    "duration": 47,
    "start_time": "2023-07-15T14:00:44.581Z"
   },
   {
    "duration": 52,
    "start_time": "2023-07-15T14:01:58.570Z"
   },
   {
    "duration": 51,
    "start_time": "2023-07-15T14:04:27.429Z"
   },
   {
    "duration": 57,
    "start_time": "2023-07-15T14:05:49.970Z"
   },
   {
    "duration": 50,
    "start_time": "2023-07-15T14:05:56.329Z"
   }
  ],
  "kernelspec": {
   "display_name": "Python 3 (ipykernel)",
   "language": "python",
   "name": "python3"
  },
  "language_info": {
   "codemirror_mode": {
    "name": "ipython",
    "version": 3
   },
   "file_extension": ".py",
   "mimetype": "text/x-python",
   "name": "python",
   "nbconvert_exporter": "python",
   "pygments_lexer": "ipython3",
   "version": "3.9.13"
  },
  "toc": {
   "base_numbering": 1,
   "nav_menu": {},
   "number_sections": true,
   "sideBar": true,
   "skip_h1_title": true,
   "title_cell": "Table of Contents",
   "title_sidebar": "Contents",
   "toc_cell": false,
   "toc_position": {},
   "toc_section_display": true,
   "toc_window_display": false
  }
 },
 "nbformat": 4,
 "nbformat_minor": 5
}
